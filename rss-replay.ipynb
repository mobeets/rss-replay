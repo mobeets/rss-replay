{
 "metadata": {
  "name": "",
  "signature": "sha256:0b69d71b7ed469431e6e0786c90add2ea4e9cf99ffcd8203a4cf643b27218e01"
 },
 "nbformat": 3,
 "nbformat_minor": 0,
 "worksheets": [
  {
   "cells": [
    {
     "cell_type": "code",
     "collapsed": false,
     "input": [
      "import requests\n",
      "import urlparse\n",
      "import feedparser"
     ],
     "language": "python",
     "metadata": {},
     "outputs": [],
     "prompt_number": 42
    },
    {
     "cell_type": "code",
     "collapsed": false,
     "input": [
      "URL_CONFIRM = \"http://archive.org/wayback/available\"\n",
      "URL_TIMESTAMP = \"http://web.archive.org/cdx/search/cdx\"\n",
      "URL_RSS_HEAD = \"http://web.archive.org/web/\"\n",
      "\n",
      "URL_SRC = \"http://www.joelonsoftware.com/rss.xml\"\n",
      "url_rss = lambda dt_str, src: urlparse.urljoin(URL_RSS_HEAD, dt_str + '/' + src)"
     ],
     "language": "python",
     "metadata": {},
     "outputs": [],
     "prompt_number": 38
    },
    {
     "cell_type": "code",
     "collapsed": false,
     "input": [
      "payload = {'url': 'example.com'}\n",
      "resp = requests.get(URL_CONFIRM, params=payload)\n",
      "is_available = resp.json()['archived_snapshots']['closest']['available']\n",
      "print is_available"
     ],
     "language": "python",
     "metadata": {},
     "outputs": [
      {
       "output_type": "stream",
       "stream": "stdout",
       "text": [
        "True\n"
       ]
      }
     ],
     "prompt_number": 11
    },
    {
     "cell_type": "code",
     "collapsed": false,
     "input": [
      "payload = {'url': 'http://joelonsoftware.com/rss.xml', 'output': 'json', 'fl': 'timestamp', 'collapse': 8}\n",
      "resp = requests.get(URL_TIMESTAMP, params=payload)\n",
      "dts = [x[0] for x in resp.json()][1:]\n",
      "print dts"
     ],
     "language": "python",
     "metadata": {},
     "outputs": [],
     "prompt_number": 15
    },
    {
     "cell_type": "code",
     "collapsed": false,
     "input": [
      "def load_entries(dt):\n",
      "    url = url_rss(dt, URL_SRC)\n",
      "    return feedparser.parse(url)"
     ],
     "language": "python",
     "metadata": {},
     "outputs": [],
     "prompt_number": 70
    },
    {
     "cell_type": "code",
     "collapsed": false,
     "input": [
      "items = []\n",
      "for dt in dts[-3:]:\n",
      "    content = load_entries(dt)\n",
      "    items.extend(content['entries'])\n"
     ],
     "language": "python",
     "metadata": {},
     "outputs": [],
     "prompt_number": 74
    },
    {
     "cell_type": "code",
     "collapsed": false,
     "input": [
      "lkp = {}\n",
      "for item in items:\n",
      "    if item['id'] not in lkp:\n",
      "        lkp[item['id']] = item\n",
      "entries = sorted(lkp.values(), key = lambda x: x['published_parsed'])"
     ],
     "language": "python",
     "metadata": {},
     "outputs": [],
     "prompt_number": 81
    },
    {
     "cell_type": "code",
     "collapsed": false,
     "input": [
      "for entry in entries:\n",
      "    print entry['title'], entry['published'], entry['link'], entry['author']"
     ],
     "language": "python",
     "metadata": {},
     "outputs": [
      {
       "output_type": "stream",
       "stream": "stdout",
       "text": [
        "Software Inventory 09 Jul 2012 10:35:16 EST http://www.joelonsoftware.com/items/2012/07/09.html Joel Spolsky\n",
        "Town Car Version Control 11 Mar 2013 20:34:31 EST http://www.joelonsoftware.com/items/2013/03/11.html Joel Spolsky\n",
        "The Patent Protection Racket 02 Apr 2013 13:31:45 EST http://www.joelonsoftware.com/items/2013/04/02.html Joel Spolsky\n",
        "Free as in Fortune Cookies 30 Apr 2013 15:42:55 EST http://www.joelonsoftware.com/items/2013/04/30.html Joel Spolsky\n",
        "Victory Lap for Ask Patents 22 Jul 2013 14:55:00 EST http://www.joelonsoftware.com/items/2013/07/22.html Joel Spolsky\n",
        "Trello, Inc. 24 Jul 2014 22:03:27 EST http://www.joelonsoftware.com/items/2014/07/24.html Joel Spolsky\n",
        "Stack Exchange Raises $40m 20 Jan 2015 12:00:37 EST http://www.joelonsoftware.com/items/2015/01/20.html Joel Spolsky\n"
       ]
      }
     ],
     "prompt_number": 83
    },
    {
     "cell_type": "code",
     "collapsed": false,
     "input": [],
     "language": "python",
     "metadata": {},
     "outputs": []
    }
   ],
   "metadata": {}
  }
 ]
}