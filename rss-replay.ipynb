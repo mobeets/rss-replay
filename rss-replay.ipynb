{
 "metadata": {
  "name": "",
  "signature": "sha256:7c12efeba66765cfb052ee151967fde93be7bfbd5e2bf77a7f6a58a4d6169594"
 },
 "nbformat": 3,
 "nbformat_minor": 0,
 "worksheets": [
  {
   "cells": [
    {
     "cell_type": "code",
     "collapsed": false,
     "input": [
      "import requests\n",
      "import urlparse\n",
      "import feedparser"
     ],
     "language": "python",
     "metadata": {},
     "outputs": [],
     "prompt_number": 42
    },
    {
     "cell_type": "code",
     "collapsed": false,
     "input": [
      "URL_CONFIRM = \"http://archive.org/wayback/available\"\n",
      "URL_TIMESTAMP = \"http://web.archive.org/cdx/search/cdx\"\n",
      "URL_RSS_HEAD = \"http://web.archive.org/web/\"\n",
      "\n",
      "URL_SRC = \"http://www.joelonsoftware.com/rss.xml\"\n",
      "url_rss = lambda dt_str, src: urlparse.urljoin(URL_RSS_HEAD, dt_str + '/' + src)"
     ],
     "language": "python",
     "metadata": {},
     "outputs": [],
     "prompt_number": 38
    },
    {
     "cell_type": "code",
     "collapsed": false,
     "input": [
      "payload = {'url': 'example.com'}\n",
      "resp = requests.get(URL_CONFIRM, params=payload)\n",
      "is_available = resp.json()['archived_snapshots']['closest']['available']\n",
      "print is_available"
     ],
     "language": "python",
     "metadata": {},
     "outputs": [
      {
       "output_type": "stream",
       "stream": "stdout",
       "text": [
        "True\n"
       ]
      }
     ],
     "prompt_number": 11
    },
    {
     "cell_type": "code",
     "collapsed": false,
     "input": [
      "payload = {'url': 'http://joelonsoftware.com/rss.xml', 'output': 'json', 'fl': 'timestamp', 'collapse': 8}\n",
      "resp = requests.get(URL_TIMESTAMP, params=payload)\n",
      "dts = [x[0] for x in resp.json()][1:]\n",
      "print dts"
     ],
     "language": "python",
     "metadata": {},
     "outputs": [],
     "prompt_number": 15
    },
    {
     "cell_type": "code",
     "collapsed": false,
     "input": [
      "def load_entries(dt):\n",
      "    url = url_rss(dt, URL_SRC)\n",
      "    return feedparser.parse(url)"
     ],
     "language": "python",
     "metadata": {},
     "outputs": [],
     "prompt_number": 70
    },
    {
     "cell_type": "code",
     "collapsed": false,
     "input": [
      "items = []\n",
      "for dt in dts[-3:]:\n",
      "    content = load_entries(dt)\n",
      "    items.extend(content['entries'])\n"
     ],
     "language": "python",
     "metadata": {},
     "outputs": [],
     "prompt_number": 74
    },
    {
     "cell_type": "code",
     "collapsed": false,
     "input": [
      "lkp = {}\n",
      "for item in items:\n",
      "    if item['id'] not in lkp:\n",
      "        lkp[item['id']] = item\n",
      "entries = sorted(lkp.values(), key = lambda x: x['published_parsed'])"
     ],
     "language": "python",
     "metadata": {},
     "outputs": [],
     "prompt_number": 81
    },
    {
     "cell_type": "code",
     "collapsed": false,
     "input": [
      "for entry in entries:\n",
      "    print '\"{title}\" {url} by {author} ({dt})'.format(title=entry['title'], dt=entry['published'], url=entry['link'], author=entry['author'])"
     ],
     "language": "python",
     "metadata": {},
     "outputs": [
      {
       "output_type": "stream",
       "stream": "stdout",
       "text": [
        "\"Software Inventory\" http://www.joelonsoftware.com/items/2012/07/09.html by Joel Spolsky (09 Jul 2012 10:35:16 EST)\n",
        "\"Town Car Version Control\" http://www.joelonsoftware.com/items/2013/03/11.html by Joel Spolsky (11 Mar 2013 20:34:31 EST)\n",
        "\"The Patent Protection Racket\" http://www.joelonsoftware.com/items/2013/04/02.html by Joel Spolsky (02 Apr 2013 13:31:45 EST)\n",
        "\"Free as in Fortune Cookies\" http://www.joelonsoftware.com/items/2013/04/30.html by Joel Spolsky (30 Apr 2013 15:42:55 EST)\n",
        "\"Victory Lap for Ask Patents\" http://www.joelonsoftware.com/items/2013/07/22.html by Joel Spolsky (22 Jul 2013 14:55:00 EST)\n",
        "\"Trello, Inc.\" http://www.joelonsoftware.com/items/2014/07/24.html by Joel Spolsky (24 Jul 2014 22:03:27 EST)\n",
        "\"Stack Exchange Raises $40m\" http://www.joelonsoftware.com/items/2015/01/20.html by Joel Spolsky (20 Jan 2015 12:00:37 EST)\n"
       ]
      }
     ],
     "prompt_number": 88
    },
    {
     "cell_type": "code",
     "collapsed": false,
     "input": [],
     "language": "python",
     "metadata": {},
     "outputs": []
    }
   ],
   "metadata": {}
  }
 ]
}